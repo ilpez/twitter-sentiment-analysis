{
 "cells": [
  {
   "cell_type": "code",
   "execution_count": 5,
   "metadata": {},
   "outputs": [],
   "source": [
    "import snscrape.modules.twitter as sntwitter\n",
    "import pandas as pd"
   ]
  },
  {
   "cell_type": "code",
   "execution_count": 6,
   "metadata": {},
   "outputs": [],
   "source": [
    "savedTweet = []\n",
    "tweetCount = 1000\n",
    "query = '(covid OR corona) -filter:links -filter:replies'\n",
    "for i,tweet in enumerate(sntwitter.TwitterSearchScraper(query + ' until:2020-03-24 lang:id').get_items()) :\n",
    "    if i > tweetCount-1 :\n",
    "        break\n",
    "    savedTweet.append([item for item in tweet])\n",
    "\n",
    "for i,tweet in enumerate(sntwitter.TwitterSearchScraper(query + ' until:2020-04-01 lang:id').get_items()) :\n",
    "    if i > tweetCount-1 :\n",
    "        break\n",
    "    savedTweet.append([item for item in tweet])\n",
    "    \n",
    "for i,tweet in enumerate(sntwitter.TwitterSearchScraper(query + ' until:2020-05-01 lang:id').get_items()) :\n",
    "    if i > tweetCount-1 :\n",
    "        break\n",
    "    savedTweet.append([item for item in tweet])\n",
    "    \n",
    "for i,tweet in enumerate(sntwitter.TwitterSearchScraper(query + ' until:2020-06-01 lang:id').get_items()) :\n",
    "    if i > tweetCount-1 :\n",
    "        break\n",
    "    savedTweet.append([item for item in tweet])"
   ]
  },
  {
   "cell_type": "code",
   "execution_count": 7,
   "metadata": {},
   "outputs": [
    {
     "name": "stdout",
     "output_type": "stream",
     "text": [
      "<class 'pandas.core.frame.DataFrame'>\n",
      "RangeIndex: 4000 entries, 0 to 3999\n",
      "Data columns (total 9 columns):\n",
      " #   Column  Non-Null Count  Dtype              \n",
      "---  ------  --------------  -----              \n",
      " 0   0       4000 non-null   object             \n",
      " 1   1       4000 non-null   datetime64[ns, UTC]\n",
      " 2   2       4000 non-null   object             \n",
      " 3   3       4000 non-null   int64              \n",
      " 4   4       4000 non-null   object             \n",
      " 5   5       4000 non-null   object             \n",
      " 6   6       4000 non-null   object             \n",
      " 7   7       4000 non-null   object             \n",
      " 8   8       4000 non-null   object             \n",
      "dtypes: datetime64[ns, UTC](1), int64(1), object(7)\n",
      "memory usage: 281.4+ KB\n"
     ]
    }
   ],
   "source": [
    "dataSave = pd.DataFrame(savedTweet)\n",
    "dataSave.to_csv(\"tweetMined/dataset.csv\", index=False)\n",
    "dataSave"
   ]
  },
  {
   "cell_type": "code",
   "execution_count": null,
   "metadata": {},
   "outputs": [],
   "source": []
  }
 ],
 "metadata": {
  "kernelspec": {
   "display_name": "Python 3",
   "language": "python",
   "name": "python3"
  },
  "language_info": {
   "codemirror_mode": {
    "name": "ipython",
    "version": 3
   },
   "file_extension": ".py",
   "mimetype": "text/x-python",
   "name": "python",
   "nbconvert_exporter": "python",
   "pygments_lexer": "ipython3",
   "version": "3.8.6"
  }
 },
 "nbformat": 4,
 "nbformat_minor": 4
}
