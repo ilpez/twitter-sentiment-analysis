{
 "cells": [
  {
   "cell_type": "code",
   "execution_count": 2,
   "metadata": {},
   "outputs": [],
   "source": [
    "import snscrape.modules.twitter as sntwitter\n",
    "import pandas as pd"
   ]
  },
  {
   "cell_type": "code",
   "execution_count": 43,
   "metadata": {},
   "outputs": [
    {
     "name": "stderr",
     "output_type": "stream",
     "text": [
      "/var/folders/q5/9gtqb31557s6zkpdmkdlbv2m0000gn/T/ipykernel_19730/2624563567.py:8: FutureWarning: username is deprecated, use user.username instead\n",
      "  savedTweet.append([tweet.date, tweet.username, tweet.content])\n"
     ]
    }
   ],
   "source": [
    "savedTweet = []\n",
    "tweetCount = 10000\n",
    "query = '(\"merdeka belajar\" OR #merdekabelajar) -filter:replies'\n",
    "\n",
    "for i,tweet in enumerate(sntwitter.TwitterSearchScraper(query + 'since:2021-01-01 lang:id').get_items()):\n",
    "    if i > tweetCount - 1:\n",
    "        break\n",
    "    savedTweet.append([tweet.date, tweet.username, tweet.content])"
   ]
  },
  {
   "cell_type": "code",
   "execution_count": 44,
   "metadata": {},
   "outputs": [
    {
     "data": {
      "text/html": [
       "<div>\n",
       "<style scoped>\n",
       "    .dataframe tbody tr th:only-of-type {\n",
       "        vertical-align: middle;\n",
       "    }\n",
       "\n",
       "    .dataframe tbody tr th {\n",
       "        vertical-align: top;\n",
       "    }\n",
       "\n",
       "    .dataframe thead th {\n",
       "        text-align: right;\n",
       "    }\n",
       "</style>\n",
       "<table border=\"1\" class=\"dataframe\">\n",
       "  <thead>\n",
       "    <tr style=\"text-align: right;\">\n",
       "      <th></th>\n",
       "      <th>0</th>\n",
       "      <th>1</th>\n",
       "      <th>2</th>\n",
       "    </tr>\n",
       "  </thead>\n",
       "  <tbody>\n",
       "    <tr>\n",
       "      <th>0</th>\n",
       "      <td>2021-12-22</td>\n",
       "      <td>M3juahjuah</td>\n",
       "      <td>Halo #SahabatDikbud \\nIkuti Silaturahmi Merdek...</td>\n",
       "    </tr>\n",
       "    <tr>\n",
       "      <th>1</th>\n",
       "      <td>2021-12-21</td>\n",
       "      <td>herald_id_</td>\n",
       "      <td>Peserta Merdeka Belajar Unhas Ikuti Kegiatan M...</td>\n",
       "    </tr>\n",
       "    <tr>\n",
       "      <th>2</th>\n",
       "      <td>2021-12-16</td>\n",
       "      <td>zia_arrazzaq</td>\n",
       "      <td>\"Merdeka Belajar\"\\n#merdekabelajar https://t.c...</td>\n",
       "    </tr>\n",
       "    <tr>\n",
       "      <th>3</th>\n",
       "      <td>2021-12-15</td>\n",
       "      <td>Kemdikbud_RI</td>\n",
       "      <td>Presiden @jokowi pun mengapresiasi program Mer...</td>\n",
       "    </tr>\n",
       "    <tr>\n",
       "      <th>4</th>\n",
       "      <td>2021-12-09</td>\n",
       "      <td>Kemdikbud_RI</td>\n",
       "      <td>Webinar Silaturahmi Merdeka Belajar hadir kemb...</td>\n",
       "    </tr>\n",
       "    <tr>\n",
       "      <th>...</th>\n",
       "      <td>...</td>\n",
       "      <td>...</td>\n",
       "      <td>...</td>\n",
       "    </tr>\n",
       "    <tr>\n",
       "      <th>729</th>\n",
       "      <td>2018-05-06</td>\n",
       "      <td>bukik</td>\n",
       "      <td>Apa itu #MerdekaBelajar? Mengapa Merdeka Belaj...</td>\n",
       "    </tr>\n",
       "    <tr>\n",
       "      <th>730</th>\n",
       "      <td>2017-10-29</td>\n",
       "      <td>storeLH</td>\n",
       "      <td>Buku baru MERDEKA BELAJAR DI RUANG KELAS\\n.\\n....</td>\n",
       "    </tr>\n",
       "    <tr>\n",
       "      <th>731</th>\n",
       "      <td>2017-01-16</td>\n",
       "      <td>KampusGuruCikal</td>\n",
       "      <td>Inilah hasil polling topik #MerdekaBelajar yg ...</td>\n",
       "    </tr>\n",
       "    <tr>\n",
       "      <th>732</th>\n",
       "      <td>2016-12-22</td>\n",
       "      <td>tiurtobing</td>\n",
       "      <td>Serial cerita tentang #MerdekaBelajar yang sel...</td>\n",
       "    </tr>\n",
       "    <tr>\n",
       "      <th>733</th>\n",
       "      <td>2016-10-27</td>\n",
       "      <td>usmandjabbaru</td>\n",
       "      <td>28 Oktober &amp;amp; Merdeka Belajar @bukik @roero...</td>\n",
       "    </tr>\n",
       "  </tbody>\n",
       "</table>\n",
       "<p>734 rows × 3 columns</p>\n",
       "</div>"
      ],
      "text/plain": [
       "              0                1  \\\n",
       "0    2021-12-22       M3juahjuah   \n",
       "1    2021-12-21       herald_id_   \n",
       "2    2021-12-16     zia_arrazzaq   \n",
       "3    2021-12-15     Kemdikbud_RI   \n",
       "4    2021-12-09     Kemdikbud_RI   \n",
       "..          ...              ...   \n",
       "729  2018-05-06            bukik   \n",
       "730  2017-10-29          storeLH   \n",
       "731  2017-01-16  KampusGuruCikal   \n",
       "732  2016-12-22       tiurtobing   \n",
       "733  2016-10-27    usmandjabbaru   \n",
       "\n",
       "                                                     2  \n",
       "0    Halo #SahabatDikbud \\nIkuti Silaturahmi Merdek...  \n",
       "1    Peserta Merdeka Belajar Unhas Ikuti Kegiatan M...  \n",
       "2    \"Merdeka Belajar\"\\n#merdekabelajar https://t.c...  \n",
       "3    Presiden @jokowi pun mengapresiasi program Mer...  \n",
       "4    Webinar Silaturahmi Merdeka Belajar hadir kemb...  \n",
       "..                                                 ...  \n",
       "729  Apa itu #MerdekaBelajar? Mengapa Merdeka Belaj...  \n",
       "730  Buku baru MERDEKA BELAJAR DI RUANG KELAS\\n.\\n....  \n",
       "731  Inilah hasil polling topik #MerdekaBelajar yg ...  \n",
       "732  Serial cerita tentang #MerdekaBelajar yang sel...  \n",
       "733  28 Oktober &amp; Merdeka Belajar @bukik @roero...  \n",
       "\n",
       "[734 rows x 3 columns]"
      ]
     },
     "execution_count": 44,
     "metadata": {},
     "output_type": "execute_result"
    }
   ],
   "source": [
    "dataSave = pd.DataFrame(savedTweet)\n",
    "dataSave[0] = dataSave[0].apply(lambda a: pd.to_datetime(a).date())\n",
    "dataSave.to_csv(\"tweetMined/dataset.csv\", index=False)\n",
    "dataSave.to_excel(\"tweetMined/dataset.xlsx\", index=False)\n",
    "dataSave"
   ]
  },
  {
   "cell_type": "code",
   "execution_count": null,
   "metadata": {},
   "outputs": [],
   "source": []
  }
 ],
 "metadata": {
  "kernelspec": {
   "display_name": "Python 3 (ipykernel)",
   "language": "python",
   "name": "python3"
  },
  "language_info": {
   "codemirror_mode": {
    "name": "ipython",
    "version": 3
   },
   "file_extension": ".py",
   "mimetype": "text/x-python",
   "name": "python",
   "nbconvert_exporter": "python",
   "pygments_lexer": "ipython3",
   "version": "3.9.7"
  }
 },
 "nbformat": 4,
 "nbformat_minor": 4
}
