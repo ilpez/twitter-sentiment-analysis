{
 "cells": [
  {
   "cell_type": "code",
   "execution_count": 976,
   "metadata": {
    "execution": {
     "iopub.execute_input": "2020-10-18T15:38:07.871152Z",
     "iopub.status.busy": "2020-10-18T15:38:07.870226Z",
     "iopub.status.idle": "2020-10-18T15:38:07.889402Z",
     "shell.execute_reply": "2020-10-18T15:38:07.886633Z",
     "shell.execute_reply.started": "2020-10-18T15:38:07.871055Z"
    }
   },
   "outputs": [
    {
     "name": "stdout",
     "output_type": "stream",
     "text": [
      "INFO: Pandarallel will run on 4 workers.\n",
      "INFO: Pandarallel will use Memory file system to transfer data between the main process and workers.\n"
     ]
    }
   ],
   "source": [
    "import pandas as pd\n",
    "from pandarallel import pandarallel\n",
    "pandarallel.initialize()\n",
    "pd.set_option('max_colwidth', 140)"
   ]
  },
  {
   "cell_type": "code",
   "execution_count": 977,
   "metadata": {
    "execution": {
     "iopub.execute_input": "2020-10-18T15:38:08.154023Z",
     "iopub.status.busy": "2020-10-18T15:38:08.153123Z",
     "iopub.status.idle": "2020-10-18T15:38:08.193899Z",
     "shell.execute_reply": "2020-10-18T15:38:08.191765Z",
     "shell.execute_reply.started": "2020-10-18T15:38:08.153926Z"
    }
   },
   "outputs": [],
   "source": [
    "data = pd.read_csv(\"kata/emotionData.csv\")\n",
    "# data = data[data.label != 'anger']"
   ]
  },
  {
   "cell_type": "code",
   "execution_count": 978,
   "metadata": {
    "execution": {
     "iopub.execute_input": "2020-10-18T15:38:08.800615Z",
     "iopub.status.busy": "2020-10-18T15:38:08.799563Z",
     "iopub.status.idle": "2020-10-18T15:38:08.812971Z",
     "shell.execute_reply": "2020-10-18T15:38:08.810204Z",
     "shell.execute_reply.started": "2020-10-18T15:38:08.800398Z"
    }
   },
   "outputs": [],
   "source": [
    "data.reset_index(drop=True, inplace=True)"
   ]
  },
  {
   "cell_type": "code",
   "execution_count": 979,
   "metadata": {
    "execution": {
     "iopub.execute_input": "2020-10-18T15:38:09.142073Z",
     "iopub.status.busy": "2020-10-18T15:38:09.138353Z",
     "iopub.status.idle": "2020-10-18T15:38:09.171823Z",
     "shell.execute_reply": "2020-10-18T15:38:09.169264Z",
     "shell.execute_reply.started": "2020-10-18T15:38:09.141948Z"
    }
   },
   "outputs": [
    {
     "data": {
      "text/plain": [
       "label\n",
       "anger      1100\n",
       "fear        646\n",
       "happy      1012\n",
       "love        636\n",
       "sadness     996\n",
       "Name: tweet, dtype: int64"
      ]
     },
     "execution_count": 979,
     "metadata": {},
     "output_type": "execute_result"
    }
   ],
   "source": [
    "data.groupby('label')['tweet'].nunique()"
   ]
  },
  {
   "cell_type": "code",
   "execution_count": 980,
   "metadata": {
    "execution": {
     "iopub.execute_input": "2020-10-18T15:38:09.738562Z",
     "iopub.status.busy": "2020-10-18T15:38:09.737119Z",
     "iopub.status.idle": "2020-10-18T15:38:09.791765Z",
     "shell.execute_reply": "2020-10-18T15:38:09.789291Z",
     "shell.execute_reply.started": "2020-10-18T15:38:09.738440Z"
    }
   },
   "outputs": [
    {
     "data": {
      "text/html": [
       "<div>\n",
       "<style scoped>\n",
       "    .dataframe tbody tr th:only-of-type {\n",
       "        vertical-align: middle;\n",
       "    }\n",
       "\n",
       "    .dataframe tbody tr th {\n",
       "        vertical-align: top;\n",
       "    }\n",
       "\n",
       "    .dataframe thead th {\n",
       "        text-align: right;\n",
       "    }\n",
       "</style>\n",
       "<table border=\"1\" class=\"dataframe\">\n",
       "  <thead>\n",
       "    <tr style=\"text-align: right;\">\n",
       "      <th></th>\n",
       "      <th>label</th>\n",
       "      <th>tweet</th>\n",
       "    </tr>\n",
       "  </thead>\n",
       "  <tbody>\n",
       "    <tr>\n",
       "      <th>0</th>\n",
       "      <td>anger</td>\n",
       "      <td>Soal jln Jatibaru,polisi tdk bs GERTAK gubernur .Emangny polisi tdk ikut pmbhasan? Jgn berpolitik. Pengaturan wilayah,hak gubernur. Pers...</td>\n",
       "    </tr>\n",
       "    <tr>\n",
       "      <th>1</th>\n",
       "      <td>anger</td>\n",
       "      <td>Sesama cewe lho (kayaknya), harusnya bisa lebih rasain lah yang harus sibuk jaga diri, rasain sakitnya haid, dan paniknya pulang malem s...</td>\n",
       "    </tr>\n",
       "    <tr>\n",
       "      <th>2</th>\n",
       "      <td>happy</td>\n",
       "      <td>Kepingin gudeg mbarek Bu hj. Amad Foto dari google, sengaja, biar teman-teman jg membayangkannya. Berbagi itu indah.</td>\n",
       "    </tr>\n",
       "    <tr>\n",
       "      <th>3</th>\n",
       "      <td>anger</td>\n",
       "      <td>Jln Jatibaru,bagian dari wilayah Tn Abang.Pengaturan wilayah tgg jwb dan wwnang gub.Tng Abng soal rumit,sejak gub2 , trdahulu.Skrg sedng...</td>\n",
       "    </tr>\n",
       "    <tr>\n",
       "      <th>4</th>\n",
       "      <td>happy</td>\n",
       "      <td>Sharing pengalaman aja, kemarin jam 18.00 batalin tiket di stasiun pasar senen, lancar, antrian tidak terlalu rame,15 menitan dan beress...</td>\n",
       "    </tr>\n",
       "    <tr>\n",
       "      <th>...</th>\n",
       "      <td>...</td>\n",
       "      <td>...</td>\n",
       "    </tr>\n",
       "    <tr>\n",
       "      <th>4396</th>\n",
       "      <td>love</td>\n",
       "      <td>Tahukah kamu, bahwa saat itu papa memejamkan matanya dan menahan gejolak dan batinnya. Bahwa papa sangat ingin mengikuti keinginanmu tap...</td>\n",
       "    </tr>\n",
       "    <tr>\n",
       "      <th>4397</th>\n",
       "      <td>fear</td>\n",
       "      <td>Sulitnya menetapkan Calon Wapresnya Jokowi di Pilpres 2019 salah satunya disebabkan gemuknya partai koalisi yang mengusung petahana. Seh...</td>\n",
       "    </tr>\n",
       "    <tr>\n",
       "      <th>4398</th>\n",
       "      <td>anger</td>\n",
       "      <td>5. masa depannya nggak jelas. lha iya, gimana mau jelas coba? lulusan seni, bisanya cuma nari, mau kerja apa? nari-nari doang. berapa si...</td>\n",
       "    </tr>\n",
       "    <tr>\n",
       "      <th>4399</th>\n",
       "      <td>happy</td>\n",
       "      <td>[USERNAME] dulu beneran ada mahasiswa Teknik UI nembak pacarnya pas sahur di Kukusan Teknik Depok, diliput kru Katakan Cinta (dan belum ...</td>\n",
       "    </tr>\n",
       "    <tr>\n",
       "      <th>4400</th>\n",
       "      <td>sadness</td>\n",
       "      <td>Ya Allah, hanya Engkau yang mengetahui rasa sakit di hati ini. Sembuhkanlah Ya Allah..</td>\n",
       "    </tr>\n",
       "  </tbody>\n",
       "</table>\n",
       "<p>4401 rows × 2 columns</p>\n",
       "</div>"
      ],
      "text/plain": [
       "        label  \\\n",
       "0       anger   \n",
       "1       anger   \n",
       "2       happy   \n",
       "3       anger   \n",
       "4       happy   \n",
       "...       ...   \n",
       "4396     love   \n",
       "4397     fear   \n",
       "4398    anger   \n",
       "4399    happy   \n",
       "4400  sadness   \n",
       "\n",
       "                                                                                                                                            tweet  \n",
       "0     Soal jln Jatibaru,polisi tdk bs GERTAK gubernur .Emangny polisi tdk ikut pmbhasan? Jgn berpolitik. Pengaturan wilayah,hak gubernur. Pers...  \n",
       "1     Sesama cewe lho (kayaknya), harusnya bisa lebih rasain lah yang harus sibuk jaga diri, rasain sakitnya haid, dan paniknya pulang malem s...  \n",
       "2                            Kepingin gudeg mbarek Bu hj. Amad Foto dari google, sengaja, biar teman-teman jg membayangkannya. Berbagi itu indah.  \n",
       "3     Jln Jatibaru,bagian dari wilayah Tn Abang.Pengaturan wilayah tgg jwb dan wwnang gub.Tng Abng soal rumit,sejak gub2 , trdahulu.Skrg sedng...  \n",
       "4     Sharing pengalaman aja, kemarin jam 18.00 batalin tiket di stasiun pasar senen, lancar, antrian tidak terlalu rame,15 menitan dan beress...  \n",
       "...                                                                                                                                           ...  \n",
       "4396  Tahukah kamu, bahwa saat itu papa memejamkan matanya dan menahan gejolak dan batinnya. Bahwa papa sangat ingin mengikuti keinginanmu tap...  \n",
       "4397  Sulitnya menetapkan Calon Wapresnya Jokowi di Pilpres 2019 salah satunya disebabkan gemuknya partai koalisi yang mengusung petahana. Seh...  \n",
       "4398  5. masa depannya nggak jelas. lha iya, gimana mau jelas coba? lulusan seni, bisanya cuma nari, mau kerja apa? nari-nari doang. berapa si...  \n",
       "4399  [USERNAME] dulu beneran ada mahasiswa Teknik UI nembak pacarnya pas sahur di Kukusan Teknik Depok, diliput kru Katakan Cinta (dan belum ...  \n",
       "4400                                                       Ya Allah, hanya Engkau yang mengetahui rasa sakit di hati ini. Sembuhkanlah Ya Allah..  \n",
       "\n",
       "[4401 rows x 2 columns]"
      ]
     },
     "execution_count": 980,
     "metadata": {},
     "output_type": "execute_result"
    }
   ],
   "source": [
    "data"
   ]
  },
  {
   "cell_type": "code",
   "execution_count": 981,
   "metadata": {
    "execution": {
     "iopub.execute_input": "2020-10-18T15:38:10.661621Z",
     "iopub.status.busy": "2020-10-18T15:38:10.661015Z",
     "iopub.status.idle": "2020-10-18T15:38:10.710080Z",
     "shell.execute_reply": "2020-10-18T15:38:10.705561Z",
     "shell.execute_reply.started": "2020-10-18T15:38:10.661558Z"
    }
   },
   "outputs": [
    {
     "data": {
      "text/html": [
       "<div>\n",
       "<style scoped>\n",
       "    .dataframe tbody tr th:only-of-type {\n",
       "        vertical-align: middle;\n",
       "    }\n",
       "\n",
       "    .dataframe tbody tr th {\n",
       "        vertical-align: top;\n",
       "    }\n",
       "\n",
       "    .dataframe thead th {\n",
       "        text-align: right;\n",
       "    }\n",
       "</style>\n",
       "<table border=\"1\" class=\"dataframe\">\n",
       "  <thead>\n",
       "    <tr style=\"text-align: right;\">\n",
       "      <th></th>\n",
       "      <th>tweet</th>\n",
       "      <th>score</th>\n",
       "    </tr>\n",
       "  </thead>\n",
       "  <tbody>\n",
       "    <tr>\n",
       "      <th>0</th>\n",
       "      <td>acungi jempol</td>\n",
       "      <td>5</td>\n",
       "    </tr>\n",
       "    <tr>\n",
       "      <th>1</th>\n",
       "      <td>anak alay</td>\n",
       "      <td>-4</td>\n",
       "    </tr>\n",
       "    <tr>\n",
       "      <th>2</th>\n",
       "      <td>anak emas</td>\n",
       "      <td>4</td>\n",
       "    </tr>\n",
       "    <tr>\n",
       "      <th>3</th>\n",
       "      <td>banting tulang</td>\n",
       "      <td>2</td>\n",
       "    </tr>\n",
       "    <tr>\n",
       "      <th>4</th>\n",
       "      <td>banyak akal</td>\n",
       "      <td>4</td>\n",
       "    </tr>\n",
       "    <tr>\n",
       "      <th>...</th>\n",
       "      <td>...</td>\n",
       "      <td>...</td>\n",
       "    </tr>\n",
       "    <tr>\n",
       "      <th>87</th>\n",
       "      <td>terima kasih</td>\n",
       "      <td>4</td>\n",
       "    </tr>\n",
       "    <tr>\n",
       "      <th>88</th>\n",
       "      <td>tinggi hati</td>\n",
       "      <td>-4</td>\n",
       "    </tr>\n",
       "    <tr>\n",
       "      <th>89</th>\n",
       "      <td>tuhan memberkati</td>\n",
       "      <td>5</td>\n",
       "    </tr>\n",
       "    <tr>\n",
       "      <th>90</th>\n",
       "      <td>tukang tipu</td>\n",
       "      <td>-5</td>\n",
       "    </tr>\n",
       "    <tr>\n",
       "      <th>91</th>\n",
       "      <td>turun tangan</td>\n",
       "      <td>3</td>\n",
       "    </tr>\n",
       "  </tbody>\n",
       "</table>\n",
       "<p>92 rows × 2 columns</p>\n",
       "</div>"
      ],
      "text/plain": [
       "               tweet  score\n",
       "0      acungi jempol      5\n",
       "1          anak alay     -4\n",
       "2          anak emas      4\n",
       "3     banting tulang      2\n",
       "4        banyak akal      4\n",
       "..               ...    ...\n",
       "87      terima kasih      4\n",
       "88       tinggi hati     -4\n",
       "89  tuhan memberkati      5\n",
       "90       tukang tipu     -5\n",
       "91      turun tangan      3\n",
       "\n",
       "[92 rows x 2 columns]"
      ]
     },
     "execution_count": 981,
     "metadata": {},
     "output_type": "execute_result"
    }
   ],
   "source": [
    "idiom = pd.read_csv(\"kata/idioms_id.txt\", sep=\":\")\n",
    "idiom"
   ]
  },
  {
   "cell_type": "code",
   "execution_count": 982,
   "metadata": {
    "execution": {
     "iopub.execute_input": "2020-10-18T15:38:11.697165Z",
     "iopub.status.busy": "2020-10-18T15:38:11.696311Z",
     "iopub.status.idle": "2020-10-18T15:38:11.756027Z",
     "shell.execute_reply": "2020-10-18T15:38:11.752552Z",
     "shell.execute_reply.started": "2020-10-18T15:38:11.697094Z"
    }
   },
   "outputs": [
    {
     "data": {
      "text/html": [
       "<div>\n",
       "<style scoped>\n",
       "    .dataframe tbody tr th:only-of-type {\n",
       "        vertical-align: middle;\n",
       "    }\n",
       "\n",
       "    .dataframe tbody tr th {\n",
       "        vertical-align: top;\n",
       "    }\n",
       "\n",
       "    .dataframe thead th {\n",
       "        text-align: right;\n",
       "    }\n",
       "</style>\n",
       "<table border=\"1\" class=\"dataframe\">\n",
       "  <thead>\n",
       "    <tr style=\"text-align: right;\">\n",
       "      <th></th>\n",
       "      <th>emot</th>\n",
       "      <th>score</th>\n",
       "    </tr>\n",
       "  </thead>\n",
       "  <tbody>\n",
       "    <tr>\n",
       "      <th>0</th>\n",
       "      <td>^^v</td>\n",
       "      <td>4</td>\n",
       "    </tr>\n",
       "    <tr>\n",
       "      <th>1</th>\n",
       "      <td>^_^</td>\n",
       "      <td>4</td>\n",
       "    </tr>\n",
       "    <tr>\n",
       "      <th>2</th>\n",
       "      <td>xp</td>\n",
       "      <td>-4</td>\n",
       "    </tr>\n",
       "    <tr>\n",
       "      <th>3</th>\n",
       "      <td>^^V</td>\n",
       "      <td>4</td>\n",
       "    </tr>\n",
       "    <tr>\n",
       "      <th>4</th>\n",
       "      <td>xd</td>\n",
       "      <td>2</td>\n",
       "    </tr>\n",
       "    <tr>\n",
       "      <th>...</th>\n",
       "      <td>...</td>\n",
       "      <td>...</td>\n",
       "    </tr>\n",
       "    <tr>\n",
       "      <th>624</th>\n",
       "      <td>x-(</td>\n",
       "      <td>-4</td>\n",
       "    </tr>\n",
       "    <tr>\n",
       "      <th>625</th>\n",
       "      <td>xd</td>\n",
       "      <td>2</td>\n",
       "    </tr>\n",
       "    <tr>\n",
       "      <th>626</th>\n",
       "      <td>xo</td>\n",
       "      <td>2</td>\n",
       "    </tr>\n",
       "    <tr>\n",
       "      <th>627</th>\n",
       "      <td>xp</td>\n",
       "      <td>-4</td>\n",
       "    </tr>\n",
       "    <tr>\n",
       "      <th>628</th>\n",
       "      <td>}:)</td>\n",
       "      <td>-4</td>\n",
       "    </tr>\n",
       "  </tbody>\n",
       "</table>\n",
       "<p>629 rows × 2 columns</p>\n",
       "</div>"
      ],
      "text/plain": [
       "    emot  score\n",
       "0    ^^v      4\n",
       "1    ^_^      4\n",
       "2     xp     -4\n",
       "3    ^^V      4\n",
       "4     xd      2\n",
       "..   ...    ...\n",
       "624  x-(     -4\n",
       "625   xd      2\n",
       "626   xo      2\n",
       "627   xp     -4\n",
       "628  }:)     -4\n",
       "\n",
       "[629 rows x 2 columns]"
      ]
     },
     "execution_count": 982,
     "metadata": {},
     "output_type": "execute_result"
    }
   ],
   "source": [
    "emoticon = pd.read_csv(\"kata/emoticon_id.txt\", sep='\\s\\|\\s', engine='python')\n",
    "emoticon"
   ]
  },
  {
   "cell_type": "code",
   "execution_count": 983,
   "metadata": {
    "execution": {
     "iopub.execute_input": "2020-10-18T15:38:12.111929Z",
     "iopub.status.busy": "2020-10-18T15:38:12.111012Z",
     "iopub.status.idle": "2020-10-18T15:38:12.164070Z",
     "shell.execute_reply": "2020-10-18T15:38:12.161400Z",
     "shell.execute_reply.started": "2020-10-18T15:38:12.111829Z"
    }
   },
   "outputs": [
    {
     "data": {
      "text/html": [
       "<div>\n",
       "<style scoped>\n",
       "    .dataframe tbody tr th:only-of-type {\n",
       "        vertical-align: middle;\n",
       "    }\n",
       "\n",
       "    .dataframe tbody tr th {\n",
       "        vertical-align: top;\n",
       "    }\n",
       "\n",
       "    .dataframe thead th {\n",
       "        text-align: right;\n",
       "    }\n",
       "</style>\n",
       "<table border=\"1\" class=\"dataframe\">\n",
       "  <thead>\n",
       "    <tr style=\"text-align: right;\">\n",
       "      <th></th>\n",
       "      <th>tweet</th>\n",
       "      <th>score</th>\n",
       "    </tr>\n",
       "  </thead>\n",
       "  <tbody>\n",
       "    <tr>\n",
       "      <th>0</th>\n",
       "      <td>abadi</td>\n",
       "      <td>5</td>\n",
       "    </tr>\n",
       "    <tr>\n",
       "      <th>1</th>\n",
       "      <td>absen</td>\n",
       "      <td>-3</td>\n",
       "    </tr>\n",
       "    <tr>\n",
       "      <th>2</th>\n",
       "      <td>abu-abu</td>\n",
       "      <td>-1</td>\n",
       "    </tr>\n",
       "    <tr>\n",
       "      <th>3</th>\n",
       "      <td>acuh</td>\n",
       "      <td>4</td>\n",
       "    </tr>\n",
       "    <tr>\n",
       "      <th>4</th>\n",
       "      <td>adil</td>\n",
       "      <td>5</td>\n",
       "    </tr>\n",
       "    <tr>\n",
       "      <th>...</th>\n",
       "      <td>...</td>\n",
       "      <td>...</td>\n",
       "    </tr>\n",
       "    <tr>\n",
       "      <th>1724</th>\n",
       "      <td>wow</td>\n",
       "      <td>4</td>\n",
       "    </tr>\n",
       "    <tr>\n",
       "      <th>1725</th>\n",
       "      <td>wtf</td>\n",
       "      <td>-4</td>\n",
       "    </tr>\n",
       "    <tr>\n",
       "      <th>1726</th>\n",
       "      <td>yatim</td>\n",
       "      <td>-1</td>\n",
       "    </tr>\n",
       "    <tr>\n",
       "      <th>1727</th>\n",
       "      <td>yeah</td>\n",
       "      <td>3</td>\n",
       "    </tr>\n",
       "    <tr>\n",
       "      <th>1728</th>\n",
       "      <td>zina</td>\n",
       "      <td>-5</td>\n",
       "    </tr>\n",
       "  </tbody>\n",
       "</table>\n",
       "<p>1729 rows × 2 columns</p>\n",
       "</div>"
      ],
      "text/plain": [
       "        tweet  score\n",
       "0       abadi      5\n",
       "1       absen     -3\n",
       "2     abu-abu     -1\n",
       "3        acuh      4\n",
       "4        adil      5\n",
       "...       ...    ...\n",
       "1724      wow      4\n",
       "1725      wtf     -4\n",
       "1726    yatim     -1\n",
       "1727     yeah      3\n",
       "1728     zina     -5\n",
       "\n",
       "[1729 rows x 2 columns]"
      ]
     },
     "execution_count": 983,
     "metadata": {},
     "output_type": "execute_result"
    }
   ],
   "source": [
    "kata = pd.read_csv(\"kata/sentiWord.txt\", sep=\":\")\n",
    "kata"
   ]
  },
  {
   "cell_type": "code",
   "execution_count": 984,
   "metadata": {
    "execution": {
     "iopub.execute_input": "2020-10-18T15:38:12.711322Z",
     "iopub.status.busy": "2020-10-18T15:38:12.710378Z",
     "iopub.status.idle": "2020-10-18T15:38:12.812768Z",
     "shell.execute_reply": "2020-10-18T15:38:12.810180Z",
     "shell.execute_reply.started": "2020-10-18T15:38:12.711215Z"
    }
   },
   "outputs": [
    {
     "data": {
      "text/html": [
       "<div>\n",
       "<style scoped>\n",
       "    .dataframe tbody tr th:only-of-type {\n",
       "        vertical-align: middle;\n",
       "    }\n",
       "\n",
       "    .dataframe tbody tr th {\n",
       "        vertical-align: top;\n",
       "    }\n",
       "\n",
       "    .dataframe thead th {\n",
       "        text-align: right;\n",
       "    }\n",
       "</style>\n",
       "<table border=\"1\" class=\"dataframe\">\n",
       "  <thead>\n",
       "    <tr style=\"text-align: right;\">\n",
       "      <th></th>\n",
       "      <th>slang</th>\n",
       "      <th>formal</th>\n",
       "    </tr>\n",
       "  </thead>\n",
       "  <tbody>\n",
       "    <tr>\n",
       "      <th>0</th>\n",
       "      <td>woww</td>\n",
       "      <td>wow</td>\n",
       "    </tr>\n",
       "    <tr>\n",
       "      <th>1</th>\n",
       "      <td>aminn</td>\n",
       "      <td>amin</td>\n",
       "    </tr>\n",
       "    <tr>\n",
       "      <th>2</th>\n",
       "      <td>met</td>\n",
       "      <td>selamat</td>\n",
       "    </tr>\n",
       "    <tr>\n",
       "      <th>3</th>\n",
       "      <td>netaas</td>\n",
       "      <td>menetas</td>\n",
       "    </tr>\n",
       "    <tr>\n",
       "      <th>4</th>\n",
       "      <td>keberpa</td>\n",
       "      <td>keberapa</td>\n",
       "    </tr>\n",
       "    <tr>\n",
       "      <th>...</th>\n",
       "      <td>...</td>\n",
       "      <td>...</td>\n",
       "    </tr>\n",
       "    <tr>\n",
       "      <th>15001</th>\n",
       "      <td>gataunya</td>\n",
       "      <td>enggak taunya</td>\n",
       "    </tr>\n",
       "    <tr>\n",
       "      <th>15002</th>\n",
       "      <td>gtau</td>\n",
       "      <td>enggak tau</td>\n",
       "    </tr>\n",
       "    <tr>\n",
       "      <th>15003</th>\n",
       "      <td>gatau</td>\n",
       "      <td>enggak tau</td>\n",
       "    </tr>\n",
       "    <tr>\n",
       "      <th>15004</th>\n",
       "      <td>fans2</td>\n",
       "      <td>fan-fan</td>\n",
       "    </tr>\n",
       "    <tr>\n",
       "      <th>15005</th>\n",
       "      <td>gaharus</td>\n",
       "      <td>enggak harus</td>\n",
       "    </tr>\n",
       "  </tbody>\n",
       "</table>\n",
       "<p>15006 rows × 2 columns</p>\n",
       "</div>"
      ],
      "text/plain": [
       "          slang         formal\n",
       "0          woww            wow\n",
       "1         aminn           amin\n",
       "2           met        selamat\n",
       "3        netaas        menetas\n",
       "4       keberpa       keberapa\n",
       "...         ...            ...\n",
       "15001  gataunya  enggak taunya\n",
       "15002      gtau     enggak tau\n",
       "15003     gatau     enggak tau\n",
       "15004     fans2        fan-fan\n",
       "15005   gaharus   enggak harus\n",
       "\n",
       "[15006 rows x 2 columns]"
      ]
     },
     "execution_count": 984,
     "metadata": {},
     "output_type": "execute_result"
    }
   ],
   "source": [
    "akronim = pd.read_csv(\"kata/akronim.csv\", usecols=['slang', 'formal'])\n",
    "akronim"
   ]
  },
  {
   "cell_type": "code",
   "execution_count": 985,
   "metadata": {
    "execution": {
     "iopub.execute_input": "2020-10-18T15:38:13.157709Z",
     "iopub.status.busy": "2020-10-18T15:38:13.157036Z",
     "iopub.status.idle": "2020-10-18T15:38:13.197071Z",
     "shell.execute_reply": "2020-10-18T15:38:13.194987Z",
     "shell.execute_reply.started": "2020-10-18T15:38:13.157636Z"
    }
   },
   "outputs": [
    {
     "data": {
      "text/html": [
       "<div>\n",
       "<style scoped>\n",
       "    .dataframe tbody tr th:only-of-type {\n",
       "        vertical-align: middle;\n",
       "    }\n",
       "\n",
       "    .dataframe tbody tr th {\n",
       "        vertical-align: top;\n",
       "    }\n",
       "\n",
       "    .dataframe thead th {\n",
       "        text-align: right;\n",
       "    }\n",
       "</style>\n",
       "<table border=\"1\" class=\"dataframe\">\n",
       "  <thead>\n",
       "    <tr style=\"text-align: right;\">\n",
       "      <th></th>\n",
       "      <th>word</th>\n",
       "    </tr>\n",
       "  </thead>\n",
       "  <tbody>\n",
       "    <tr>\n",
       "      <th>0</th>\n",
       "      <td>ada</td>\n",
       "    </tr>\n",
       "    <tr>\n",
       "      <th>1</th>\n",
       "      <td>adalah</td>\n",
       "    </tr>\n",
       "    <tr>\n",
       "      <th>2</th>\n",
       "      <td>adanya</td>\n",
       "    </tr>\n",
       "    <tr>\n",
       "      <th>3</th>\n",
       "      <td>adapun</td>\n",
       "    </tr>\n",
       "    <tr>\n",
       "      <th>4</th>\n",
       "      <td>agak</td>\n",
       "    </tr>\n",
       "    <tr>\n",
       "      <th>...</th>\n",
       "      <td>...</td>\n",
       "    </tr>\n",
       "    <tr>\n",
       "      <th>753</th>\n",
       "      <td>wong</td>\n",
       "    </tr>\n",
       "    <tr>\n",
       "      <th>754</th>\n",
       "      <td>yaitu</td>\n",
       "    </tr>\n",
       "    <tr>\n",
       "      <th>755</th>\n",
       "      <td>yakin</td>\n",
       "    </tr>\n",
       "    <tr>\n",
       "      <th>756</th>\n",
       "      <td>yakni</td>\n",
       "    </tr>\n",
       "    <tr>\n",
       "      <th>757</th>\n",
       "      <td>yang</td>\n",
       "    </tr>\n",
       "  </tbody>\n",
       "</table>\n",
       "<p>758 rows × 1 columns</p>\n",
       "</div>"
      ],
      "text/plain": [
       "       word\n",
       "0       ada\n",
       "1    adalah\n",
       "2    adanya\n",
       "3    adapun\n",
       "4      agak\n",
       "..      ...\n",
       "753    wong\n",
       "754   yaitu\n",
       "755   yakin\n",
       "756   yakni\n",
       "757    yang\n",
       "\n",
       "[758 rows x 1 columns]"
      ]
     },
     "execution_count": 985,
     "metadata": {},
     "output_type": "execute_result"
    }
   ],
   "source": [
    "stoplist = pd.read_csv(\"kata/stoplist.txt\")\n",
    "stoplist"
   ]
  },
  {
   "cell_type": "code",
   "execution_count": 986,
   "metadata": {
    "execution": {
     "iopub.execute_input": "2020-10-18T15:38:13.679364Z",
     "iopub.status.busy": "2020-10-18T15:38:13.678444Z",
     "iopub.status.idle": "2020-10-18T15:38:13.724099Z",
     "shell.execute_reply": "2020-10-18T15:38:13.719475Z",
     "shell.execute_reply.started": "2020-10-18T15:38:13.679252Z"
    }
   },
   "outputs": [
    {
     "data": {
      "text/html": [
       "<div>\n",
       "<style scoped>\n",
       "    .dataframe tbody tr th:only-of-type {\n",
       "        vertical-align: middle;\n",
       "    }\n",
       "\n",
       "    .dataframe tbody tr th {\n",
       "        vertical-align: top;\n",
       "    }\n",
       "\n",
       "    .dataframe thead th {\n",
       "        text-align: right;\n",
       "    }\n",
       "</style>\n",
       "<table border=\"1\" class=\"dataframe\">\n",
       "  <thead>\n",
       "    <tr style=\"text-align: right;\">\n",
       "      <th></th>\n",
       "      <th>word</th>\n",
       "    </tr>\n",
       "  </thead>\n",
       "  <tbody>\n",
       "    <tr>\n",
       "      <th>0</th>\n",
       "      <td>belum</td>\n",
       "    </tr>\n",
       "    <tr>\n",
       "      <th>1</th>\n",
       "      <td>bukan</td>\n",
       "    </tr>\n",
       "    <tr>\n",
       "      <th>2</th>\n",
       "      <td>tak</td>\n",
       "    </tr>\n",
       "    <tr>\n",
       "      <th>3</th>\n",
       "      <td>tanpa</td>\n",
       "    </tr>\n",
       "    <tr>\n",
       "      <th>4</th>\n",
       "      <td>tidak</td>\n",
       "    </tr>\n",
       "    <tr>\n",
       "      <th>5</th>\n",
       "      <td>pantang</td>\n",
       "    </tr>\n",
       "    <tr>\n",
       "      <th>6</th>\n",
       "      <td>jangan</td>\n",
       "    </tr>\n",
       "    <tr>\n",
       "      <th>7</th>\n",
       "      <td>bukanlah</td>\n",
       "    </tr>\n",
       "    <tr>\n",
       "      <th>8</th>\n",
       "      <td>sok</td>\n",
       "    </tr>\n",
       "    <tr>\n",
       "      <th>9</th>\n",
       "      <td>tidak pernah</td>\n",
       "    </tr>\n",
       "  </tbody>\n",
       "</table>\n",
       "</div>"
      ],
      "text/plain": [
       "           word\n",
       "0         belum\n",
       "1         bukan\n",
       "2           tak\n",
       "3         tanpa\n",
       "4         tidak\n",
       "5       pantang\n",
       "6        jangan\n",
       "7      bukanlah\n",
       "8           sok\n",
       "9  tidak pernah"
      ]
     },
     "execution_count": 986,
     "metadata": {},
     "output_type": "execute_result"
    }
   ],
   "source": [
    "negasi = pd.read_csv(\"kata/negatingword.txt\")\n",
    "negasi"
   ]
  },
  {
   "cell_type": "code",
   "execution_count": 988,
   "metadata": {
    "execution": {
     "iopub.execute_input": "2020-10-18T15:39:05.293363Z",
     "iopub.status.busy": "2020-10-18T15:39:05.291949Z",
     "iopub.status.idle": "2020-10-18T15:39:05.311076Z",
     "shell.execute_reply": "2020-10-18T15:39:05.308959Z",
     "shell.execute_reply.started": "2020-10-18T15:39:05.293256Z"
    }
   },
   "outputs": [],
   "source": [
    "def anything_to_sentiment(anything):\n",
    "    if type(anything) == str:\n",
    "        if anything in ['love', 'happy']:\n",
    "            return 'pos'\n",
    "        elif anything in ['fear', 'sadness']:\n",
    "            return 'neg'\n",
    "        else:\n",
    "            return 'neu'\n",
    "    elif type(anything) == int:\n",
    "        if anything > 1:\n",
    "            return 'pos'\n",
    "        elif anything < -1:\n",
    "            return 'neg'\n",
    "        else:\n",
    "            return 'neu'"
   ]
  },
  {
   "cell_type": "code",
   "execution_count": 989,
   "metadata": {
    "execution": {
     "iopub.execute_input": "2020-10-18T15:39:06.183200Z",
     "iopub.status.busy": "2020-10-18T15:39:06.182521Z",
     "iopub.status.idle": "2020-10-18T15:39:06.348670Z",
     "shell.execute_reply": "2020-10-18T15:39:06.345919Z",
     "shell.execute_reply.started": "2020-10-18T15:39:06.183128Z"
    }
   },
   "outputs": [
    {
     "data": {
      "text/html": [
       "<div>\n",
       "<style scoped>\n",
       "    .dataframe tbody tr th:only-of-type {\n",
       "        vertical-align: middle;\n",
       "    }\n",
       "\n",
       "    .dataframe tbody tr th {\n",
       "        vertical-align: top;\n",
       "    }\n",
       "\n",
       "    .dataframe thead th {\n",
       "        text-align: right;\n",
       "    }\n",
       "</style>\n",
       "<table border=\"1\" class=\"dataframe\">\n",
       "  <thead>\n",
       "    <tr style=\"text-align: right;\">\n",
       "      <th></th>\n",
       "      <th>label</th>\n",
       "      <th>tweet</th>\n",
       "      <th>sentiment</th>\n",
       "    </tr>\n",
       "  </thead>\n",
       "  <tbody>\n",
       "    <tr>\n",
       "      <th>0</th>\n",
       "      <td>anger</td>\n",
       "      <td>Soal jln Jatibaru,polisi tdk bs GERTAK gubernur .Emangny polisi tdk ikut pmbhasan? Jgn berpolitik. Pengaturan wilayah,hak gubernur. Pers...</td>\n",
       "      <td>neu</td>\n",
       "    </tr>\n",
       "    <tr>\n",
       "      <th>1</th>\n",
       "      <td>anger</td>\n",
       "      <td>Sesama cewe lho (kayaknya), harusnya bisa lebih rasain lah yang harus sibuk jaga diri, rasain sakitnya haid, dan paniknya pulang malem s...</td>\n",
       "      <td>neu</td>\n",
       "    </tr>\n",
       "    <tr>\n",
       "      <th>2</th>\n",
       "      <td>happy</td>\n",
       "      <td>Kepingin gudeg mbarek Bu hj. Amad Foto dari google, sengaja, biar teman-teman jg membayangkannya. Berbagi itu indah.</td>\n",
       "      <td>pos</td>\n",
       "    </tr>\n",
       "    <tr>\n",
       "      <th>3</th>\n",
       "      <td>anger</td>\n",
       "      <td>Jln Jatibaru,bagian dari wilayah Tn Abang.Pengaturan wilayah tgg jwb dan wwnang gub.Tng Abng soal rumit,sejak gub2 , trdahulu.Skrg sedng...</td>\n",
       "      <td>neu</td>\n",
       "    </tr>\n",
       "    <tr>\n",
       "      <th>4</th>\n",
       "      <td>happy</td>\n",
       "      <td>Sharing pengalaman aja, kemarin jam 18.00 batalin tiket di stasiun pasar senen, lancar, antrian tidak terlalu rame,15 menitan dan beress...</td>\n",
       "      <td>pos</td>\n",
       "    </tr>\n",
       "    <tr>\n",
       "      <th>...</th>\n",
       "      <td>...</td>\n",
       "      <td>...</td>\n",
       "      <td>...</td>\n",
       "    </tr>\n",
       "    <tr>\n",
       "      <th>4396</th>\n",
       "      <td>love</td>\n",
       "      <td>Tahukah kamu, bahwa saat itu papa memejamkan matanya dan menahan gejolak dan batinnya. Bahwa papa sangat ingin mengikuti keinginanmu tap...</td>\n",
       "      <td>pos</td>\n",
       "    </tr>\n",
       "    <tr>\n",
       "      <th>4397</th>\n",
       "      <td>fear</td>\n",
       "      <td>Sulitnya menetapkan Calon Wapresnya Jokowi di Pilpres 2019 salah satunya disebabkan gemuknya partai koalisi yang mengusung petahana. Seh...</td>\n",
       "      <td>neg</td>\n",
       "    </tr>\n",
       "    <tr>\n",
       "      <th>4398</th>\n",
       "      <td>anger</td>\n",
       "      <td>5. masa depannya nggak jelas. lha iya, gimana mau jelas coba? lulusan seni, bisanya cuma nari, mau kerja apa? nari-nari doang. berapa si...</td>\n",
       "      <td>neu</td>\n",
       "    </tr>\n",
       "    <tr>\n",
       "      <th>4399</th>\n",
       "      <td>happy</td>\n",
       "      <td>[USERNAME] dulu beneran ada mahasiswa Teknik UI nembak pacarnya pas sahur di Kukusan Teknik Depok, diliput kru Katakan Cinta (dan belum ...</td>\n",
       "      <td>pos</td>\n",
       "    </tr>\n",
       "    <tr>\n",
       "      <th>4400</th>\n",
       "      <td>sadness</td>\n",
       "      <td>Ya Allah, hanya Engkau yang mengetahui rasa sakit di hati ini. Sembuhkanlah Ya Allah..</td>\n",
       "      <td>neg</td>\n",
       "    </tr>\n",
       "  </tbody>\n",
       "</table>\n",
       "<p>4401 rows × 3 columns</p>\n",
       "</div>"
      ],
      "text/plain": [
       "        label  \\\n",
       "0       anger   \n",
       "1       anger   \n",
       "2       happy   \n",
       "3       anger   \n",
       "4       happy   \n",
       "...       ...   \n",
       "4396     love   \n",
       "4397     fear   \n",
       "4398    anger   \n",
       "4399    happy   \n",
       "4400  sadness   \n",
       "\n",
       "                                                                                                                                            tweet  \\\n",
       "0     Soal jln Jatibaru,polisi tdk bs GERTAK gubernur .Emangny polisi tdk ikut pmbhasan? Jgn berpolitik. Pengaturan wilayah,hak gubernur. Pers...   \n",
       "1     Sesama cewe lho (kayaknya), harusnya bisa lebih rasain lah yang harus sibuk jaga diri, rasain sakitnya haid, dan paniknya pulang malem s...   \n",
       "2                            Kepingin gudeg mbarek Bu hj. Amad Foto dari google, sengaja, biar teman-teman jg membayangkannya. Berbagi itu indah.   \n",
       "3     Jln Jatibaru,bagian dari wilayah Tn Abang.Pengaturan wilayah tgg jwb dan wwnang gub.Tng Abng soal rumit,sejak gub2 , trdahulu.Skrg sedng...   \n",
       "4     Sharing pengalaman aja, kemarin jam 18.00 batalin tiket di stasiun pasar senen, lancar, antrian tidak terlalu rame,15 menitan dan beress...   \n",
       "...                                                                                                                                           ...   \n",
       "4396  Tahukah kamu, bahwa saat itu papa memejamkan matanya dan menahan gejolak dan batinnya. Bahwa papa sangat ingin mengikuti keinginanmu tap...   \n",
       "4397  Sulitnya menetapkan Calon Wapresnya Jokowi di Pilpres 2019 salah satunya disebabkan gemuknya partai koalisi yang mengusung petahana. Seh...   \n",
       "4398  5. masa depannya nggak jelas. lha iya, gimana mau jelas coba? lulusan seni, bisanya cuma nari, mau kerja apa? nari-nari doang. berapa si...   \n",
       "4399  [USERNAME] dulu beneran ada mahasiswa Teknik UI nembak pacarnya pas sahur di Kukusan Teknik Depok, diliput kru Katakan Cinta (dan belum ...   \n",
       "4400                                                       Ya Allah, hanya Engkau yang mengetahui rasa sakit di hati ini. Sembuhkanlah Ya Allah..   \n",
       "\n",
       "     sentiment  \n",
       "0          neu  \n",
       "1          neu  \n",
       "2          pos  \n",
       "3          neu  \n",
       "4          pos  \n",
       "...        ...  \n",
       "4396       pos  \n",
       "4397       neg  \n",
       "4398       neu  \n",
       "4399       pos  \n",
       "4400       neg  \n",
       "\n",
       "[4401 rows x 3 columns]"
      ]
     },
     "execution_count": 989,
     "metadata": {},
     "output_type": "execute_result"
    }
   ],
   "source": [
    "data['sentiment'] = data['label'].astype(str).apply(anything_to_sentiment)\n",
    "data.to_csv('sentimentedKata/tweetSent.csv', index=False)\n",
    "data"
   ]
  },
  {
   "cell_type": "code",
   "execution_count": 990,
   "metadata": {
    "execution": {
     "iopub.execute_input": "2020-10-18T15:39:07.154944Z",
     "iopub.status.busy": "2020-10-18T15:39:07.152919Z",
     "iopub.status.idle": "2020-10-18T15:39:07.201247Z",
     "shell.execute_reply": "2020-10-18T15:39:07.198976Z",
     "shell.execute_reply.started": "2020-10-18T15:39:07.154814Z"
    }
   },
   "outputs": [
    {
     "data": {
      "text/plain": [
       "sentiment\n",
       "neg    44\n",
       "neu    24\n",
       "pos    24\n",
       "Name: tweet, dtype: int64"
      ]
     },
     "execution_count": 990,
     "metadata": {},
     "output_type": "execute_result"
    }
   ],
   "source": [
    "idiom['sentiment'] = idiom['score'].astype(int).apply(anything_to_sentiment)\n",
    "idiom.to_csv('sentimentedKata/idiom.csv', index=False)\n",
    "idiom.groupby('sentiment')['tweet'].nunique()"
   ]
  },
  {
   "cell_type": "code",
   "execution_count": 991,
   "metadata": {
    "execution": {
     "iopub.execute_input": "2020-10-18T15:39:12.392601Z",
     "iopub.status.busy": "2020-10-18T15:39:12.391970Z",
     "iopub.status.idle": "2020-10-18T15:39:12.426288Z",
     "shell.execute_reply": "2020-10-18T15:39:12.423837Z",
     "shell.execute_reply.started": "2020-10-18T15:39:12.392536Z"
    }
   },
   "outputs": [
    {
     "data": {
      "text/plain": [
       "sentiment\n",
       "neg    52\n",
       "pos    45\n",
       "Name: emot, dtype: int64"
      ]
     },
     "execution_count": 991,
     "metadata": {},
     "output_type": "execute_result"
    }
   ],
   "source": [
    "emoticon['sentiment'] = emoticon['score'].astype(int).apply(anything_to_sentiment)\n",
    "emoticon.to_csv('sentimentedKata/emoticon.csv', index=False)\n",
    "emoticon.groupby('sentiment')['emot'].nunique()"
   ]
  },
  {
   "cell_type": "code",
   "execution_count": 992,
   "metadata": {
    "execution": {
     "iopub.execute_input": "2020-10-18T15:39:14.130346Z",
     "iopub.status.busy": "2020-10-18T15:39:14.129454Z",
     "iopub.status.idle": "2020-10-18T15:39:14.181910Z",
     "shell.execute_reply": "2020-10-18T15:39:14.179051Z",
     "shell.execute_reply.started": "2020-10-18T15:39:14.130241Z"
    }
   },
   "outputs": [
    {
     "data": {
      "text/plain": [
       "sentiment\n",
       "neg    1078\n",
       "neu     189\n",
       "pos     462\n",
       "Name: tweet, dtype: int64"
      ]
     },
     "execution_count": 992,
     "metadata": {},
     "output_type": "execute_result"
    }
   ],
   "source": [
    "kata['sentiment'] = kata['score'].astype(int).apply(anything_to_sentiment)\n",
    "kata.to_csv('sentimentedKata/kata.csv', index=False)\n",
    "kata.groupby('sentiment')['tweet'].nunique()"
   ]
  },
  {
   "cell_type": "code",
   "execution_count": 993,
   "metadata": {
    "execution": {
     "iopub.execute_input": "2020-10-18T15:39:18.785875Z",
     "iopub.status.busy": "2020-10-18T15:39:18.785295Z",
     "iopub.status.idle": "2020-10-18T15:39:18.818734Z",
     "shell.execute_reply": "2020-10-18T15:39:18.816066Z",
     "shell.execute_reply.started": "2020-10-18T15:39:18.785814Z"
    }
   },
   "outputs": [],
   "source": [
    "kamusAlay = dict(zip(akronim.slang, akronim.formal))\n",
    "punct = '!\"#$%&\\'()*+,./:;<=>?@\\\\^_`{|}~'\n",
    "\n",
    "def slang_to_formal(tweet):\n",
    "    tweet = tweet.translate(str.maketrans(punct, len(punct)*\" \"))\n",
    "    slang = tweet.split()\n",
    "    formal = []\n",
    "    for word in slang:\n",
    "        if not word.isdigit():\n",
    "            if word in kamusAlay:\n",
    "                formal.extend(kamusAlay[word].split())\n",
    "            else:\n",
    "                formal.append(word)\n",
    "    return \" \".join(formal)"
   ]
  },
  {
   "cell_type": "code",
   "execution_count": 994,
   "metadata": {
    "execution": {
     "iopub.execute_input": "2020-10-18T15:39:19.619220Z",
     "iopub.status.busy": "2020-10-18T15:39:19.618333Z",
     "iopub.status.idle": "2020-10-18T15:39:19.669117Z",
     "shell.execute_reply": "2020-10-18T15:39:19.666586Z",
     "shell.execute_reply.started": "2020-10-18T15:39:19.619120Z"
    }
   },
   "outputs": [],
   "source": [
    "import re\n",
    "\n",
    "\n",
    "def make_pattern(text):\n",
    "    pattern = \"|\".join(map(re.escape, text))\n",
    "    pattern = r\"(?u)(?<=\\s)(\" + pattern + \")(?=\\s)\"\n",
    "#                \"(?<=\\s)(\" + pattern + \")\",\n",
    "#                \"(\" + pattern + \")(?=\\s)\"]\n",
    "    return re.compile(pattern)\n",
    "\n",
    "\n",
    "bannedWord = ['covid', 'corona', 'virus', 'coronavirus'\n",
    "#              ,'baiknya', 'berkali', 'kali', 'kurangnya', 'mata', 'not', 'nya', 'olah', 'sekurang', 'tama'\n",
    "             ]\n",
    "stop = stoplist.word.to_list() + bannedWord\n",
    "neg_emot = make_pattern(emoticon.emot[emoticon.sentiment == 'neg'][::-1])\n",
    "pos_emot = make_pattern(emoticon.emot[emoticon.sentiment == 'pos'][::-1])\n",
    "negate = make_pattern(negasi.word.to_list())\n",
    "url = re.compile(r'(?i)\\b((?:https?://|www\\d{0,3}[.]|[a-z0-9.\\-]+[.][a-z]{2,4}/)(?:[^\\s()<>]+|\\(([^\\s()<>]+|(\\([^\\s()<>]+\\)))*\\))+(?:\\(([^\\s()<>]+|(\\([^\\s()<>]+\\)))*\\)|[^\\s`!()\\[\\]{};:\\'\".,<>?\\xab\\xbb\\u201c\\u201d\\u2018\\u2019]))')\n",
    "username = \"@\\w{1,}\"\n",
    "hashtag = \"#\\w{1,}\"\n",
    "tags = ['[neg]', '[pos]', '[url]', '[username]', '[not]']\n",
    "patterns = [neg_emot, pos_emot, url, username, hashtag, negate, stop]\n",
    "# database = dict(zip(tags, patterns))\n",
    "\n",
    "\n",
    "def replace_with_tag(tweet):\n",
    "    tweet = tweet.lower()\n",
    "#     tweet = ' '.join(word_tokenize(tweet))\n",
    "    tweet = re.sub(url, ' [url] ', tweet)\n",
    "    tweet = re.sub(username, ' [username] ', tweet)\n",
    "    tweet = re.sub(hashtag, ' ', tweet)\n",
    "    tweet = re.sub(neg_emot, ' [neg] ', tweet)\n",
    "    tweet = re.sub(pos_emot, ' [pos] ', tweet)\n",
    "    tweet = slang_to_formal(tweet)\n",
    "    tweet = re.sub(negate, ' [not] ', tweet)\n",
    "    tweet = re.sub(r'\\d+', '', tweet)\n",
    "    tweet = re.sub(' +', ' ', tweet)\n",
    "    return tweet\n",
    "\n"
   ]
  },
  {
   "cell_type": "code",
   "execution_count": 995,
   "metadata": {
    "execution": {
     "iopub.execute_input": "2020-10-18T15:39:20.121442Z",
     "iopub.status.busy": "2020-10-18T15:39:20.120812Z",
     "iopub.status.idle": "2020-10-18T15:39:20.250496Z",
     "shell.execute_reply": "2020-10-18T15:39:20.247536Z",
     "shell.execute_reply.started": "2020-10-18T15:39:20.121349Z"
    }
   },
   "outputs": [
    {
     "data": {
      "text/plain": [
       "sentiment\n",
       "neg    2763\n",
       "neu    1313\n",
       "pos    2134\n",
       "Name: tweet, dtype: int64"
      ]
     },
     "execution_count": 995,
     "metadata": {},
     "output_type": "execute_result"
    }
   ],
   "source": [
    "datas = []\n",
    "datas.append(pd.read_csv('sentimentedKata/tweetSent.csv'))\n",
    "datas.append(pd.read_csv('sentimentedKata/idiom.csv'))\n",
    "datas.append(pd.read_csv('sentimentedKata/kata.csv'))\n",
    "\n",
    "dataCleaned = pd.concat(datas)\n",
    "dataCleaned.drop_duplicates(subset='tweet', keep='first', inplace=True)\n",
    "dataCleaned.reset_index(drop=True, inplace=True)\n",
    "dataCleaned.groupby('sentiment')['tweet'].nunique()"
   ]
  },
  {
   "cell_type": "code",
   "execution_count": 996,
   "metadata": {
    "execution": {
     "iopub.execute_input": "2020-10-18T15:39:21.265295Z",
     "iopub.status.busy": "2020-10-18T15:39:21.264709Z",
     "iopub.status.idle": "2020-10-18T15:39:21.283657Z",
     "shell.execute_reply": "2020-10-18T15:39:21.278641Z",
     "shell.execute_reply.started": "2020-10-18T15:39:21.265234Z"
    }
   },
   "outputs": [],
   "source": [
    "import random\n",
    "import numpy as np\n",
    "from sklearn import metrics\n",
    "from sklearn.feature_extraction.text import CountVectorizer, TfidfTransformer\n",
    "from sklearn.naive_bayes import MultinomialNB as NB\n",
    "from sklearn.pipeline import Pipeline\n",
    "from sklearn.model_selection import train_test_split, GridSearchCV\n",
    "\n",
    "\n",
    "text_clf = Pipeline([('vect', CountVectorizer()),\n",
    "#                      ('tfidf', TfidfTransformer()),\n",
    "                     ('clf', NB())])\n",
    "\n",
    "\n",
    "\n",
    "# params = {\n",
    "#           'vect__ngram_range': [(1,1), (1,2), (1,3)],\n",
    "#           'vect__binary': (True, False),\n",
    "#           'tfidf__use_idf': (True, False),\n",
    "#             'clf__alpha': np.linspace(0,1,100)\n",
    "#           }\n",
    "\n",
    "tweet = dataCleaned['tweet'].values\n",
    "sent = dataCleaned['sentiment'].values"
   ]
  },
  {
   "cell_type": "code",
   "execution_count": 997,
   "metadata": {
    "execution": {
     "iopub.execute_input": "2020-10-18T15:39:26.729768Z",
     "iopub.status.busy": "2020-10-18T15:39:26.728907Z",
     "iopub.status.idle": "2020-10-18T15:39:26.823516Z",
     "shell.execute_reply": "2020-10-18T15:39:26.818694Z",
     "shell.execute_reply.started": "2020-10-18T15:39:26.729662Z"
    }
   },
   "outputs": [
    {
     "data": {
      "text/html": [
       "<div>\n",
       "<style scoped>\n",
       "    .dataframe tbody tr th:only-of-type {\n",
       "        vertical-align: middle;\n",
       "    }\n",
       "\n",
       "    .dataframe tbody tr th {\n",
       "        vertical-align: top;\n",
       "    }\n",
       "\n",
       "    .dataframe thead th {\n",
       "        text-align: right;\n",
       "    }\n",
       "</style>\n",
       "<table border=\"1\" class=\"dataframe\">\n",
       "  <thead>\n",
       "    <tr style=\"text-align: right;\">\n",
       "      <th></th>\n",
       "      <th>kata</th>\n",
       "    </tr>\n",
       "  </thead>\n",
       "  <tbody>\n",
       "    <tr>\n",
       "      <th>0</th>\n",
       "      <td>a</td>\n",
       "    </tr>\n",
       "    <tr>\n",
       "      <th>1</th>\n",
       "      <td>ab</td>\n",
       "    </tr>\n",
       "    <tr>\n",
       "      <th>2</th>\n",
       "      <td>aba</td>\n",
       "    </tr>\n",
       "    <tr>\n",
       "      <th>3</th>\n",
       "      <td>aba-aba</td>\n",
       "    </tr>\n",
       "    <tr>\n",
       "      <th>4</th>\n",
       "      <td>abad</td>\n",
       "    </tr>\n",
       "    <tr>\n",
       "      <th>...</th>\n",
       "      <td>...</td>\n",
       "    </tr>\n",
       "    <tr>\n",
       "      <th>30336</th>\n",
       "      <td>zulmat</td>\n",
       "    </tr>\n",
       "    <tr>\n",
       "      <th>30337</th>\n",
       "      <td>zulu</td>\n",
       "    </tr>\n",
       "    <tr>\n",
       "      <th>30338</th>\n",
       "      <td>zurafah</td>\n",
       "    </tr>\n",
       "    <tr>\n",
       "      <th>30339</th>\n",
       "      <td>zuriah</td>\n",
       "    </tr>\n",
       "    <tr>\n",
       "      <th>30340</th>\n",
       "      <td>zus</td>\n",
       "    </tr>\n",
       "  </tbody>\n",
       "</table>\n",
       "<p>30341 rows × 1 columns</p>\n",
       "</div>"
      ],
      "text/plain": [
       "          kata\n",
       "0            a\n",
       "1           ab\n",
       "2          aba\n",
       "3      aba-aba\n",
       "4         abad\n",
       "...        ...\n",
       "30336   zulmat\n",
       "30337     zulu\n",
       "30338  zurafah\n",
       "30339   zuriah\n",
       "30340      zus\n",
       "\n",
       "[30341 rows x 1 columns]"
      ]
     },
     "execution_count": 997,
     "metadata": {},
     "output_type": "execute_result"
    }
   ],
   "source": [
    "vocab = pd.read_csv(\"serangkai/serangkai/kamus/data/kamus-kata-dasar.csv\")\n",
    "vocab\n",
    "# dataCleaned['score'].mean()"
   ]
  },
  {
   "cell_type": "code",
   "execution_count": 1015,
   "metadata": {
    "execution": {
     "iopub.execute_input": "2020-10-18T15:42:07.081192Z",
     "iopub.status.busy": "2020-10-18T15:42:07.080562Z",
     "iopub.status.idle": "2020-10-18T15:42:07.153074Z",
     "shell.execute_reply": "2020-10-18T15:42:07.151169Z",
     "shell.execute_reply.started": "2020-10-18T15:42:07.081120Z"
    }
   },
   "outputs": [
    {
     "data": {
      "text/plain": [
       "Pipeline(steps=[('vect',\n",
       "                 CountVectorizer(max_df=0.7, min_df=5, ngram_range=(1, 2),\n",
       "                                 preprocessor=<function replace_with_tag at 0x7fe983a99280>,\n",
       "                                 stop_words=['ada', 'adalah', 'adanya',\n",
       "                                             'adapun', 'agak', 'agaknya',\n",
       "                                             'agar', 'akan', 'akankah', 'akhir',\n",
       "                                             'akhiri', 'akhirnya', 'aku',\n",
       "                                             'akulah', 'amat', 'amatlah',\n",
       "                                             'anda', 'andalah', 'antar',\n",
       "                                             'antara', 'antaranya', 'apa',\n",
       "                                             'apaan', 'apabila', 'apakah',\n",
       "                                             'apalagi', 'apatah', 'artinya',\n",
       "                                             'asal', 'asalkan', ...],\n",
       "                                 token_pattern='(?u)\\\\[\\\\w{3,}\\\\]|\\\\b\\\\w{4,}\\\\-?\\\\w+\\\\b')),\n",
       "                ('clf', MultinomialNB(alpha=0.5))])"
      ]
     },
     "execution_count": 1015,
     "metadata": {},
     "output_type": "execute_result"
    }
   ],
   "source": [
    "# best_param = {'tfidf__use_idf': False, 'vect__binary': True, 'vect__ngram_range': (1, 3)}\n",
    "text_clf.set_params(vect__preprocessor=replace_with_tag)\n",
    "text_clf.set_params(vect__min_df=5)\n",
    "text_clf.set_params(vect__max_df=0.7)\n",
    "# text_clf.set_params(vect__vocabulary=vocab.kata.to_list())\n",
    "text_clf.set_params(vect__binary=False)\n",
    "text_clf.set_params(vect__ngram_range=(1,2))\n",
    "text_clf.set_params(vect__stop_words=stop)\n",
    "text_clf.set_params(vect__token_pattern=r'(?u)\\[\\w{3,}\\]|\\b\\w{4,}\\-?\\w+\\b')\n",
    "# text_clf.set_params(tfidf__use_idf=False)\n",
    "text_clf.set_params(clf__alpha=0.5)"
   ]
  },
  {
   "cell_type": "code",
   "execution_count": 1016,
   "metadata": {
    "execution": {
     "iopub.execute_input": "2020-10-18T15:42:09.058219Z",
     "iopub.status.busy": "2020-10-18T15:42:09.057278Z",
     "iopub.status.idle": "2020-10-18T15:42:09.066184Z",
     "shell.execute_reply": "2020-10-18T15:42:09.063299Z",
     "shell.execute_reply.started": "2020-10-18T15:42:09.058141Z"
    }
   },
   "outputs": [],
   "source": [
    "# gs_clf = GridSearchCV(text_clf, params, cv=5, n_jobs=-1)\n",
    "\n",
    "# gs_clf = gs_clf.fit(tweet, sent)"
   ]
  },
  {
   "cell_type": "code",
   "execution_count": 1017,
   "metadata": {
    "execution": {
     "iopub.execute_input": "2020-10-18T15:42:09.708942Z",
     "iopub.status.busy": "2020-10-18T15:42:09.707973Z",
     "iopub.status.idle": "2020-10-18T15:42:09.723902Z",
     "shell.execute_reply": "2020-10-18T15:42:09.721316Z",
     "shell.execute_reply.started": "2020-10-18T15:42:09.708839Z"
    }
   },
   "outputs": [],
   "source": [
    "# pd.DataFrame(gs_clf.cv_results_)"
   ]
  },
  {
   "cell_type": "code",
   "execution_count": 1018,
   "metadata": {
    "execution": {
     "iopub.execute_input": "2020-10-18T15:42:10.158039Z",
     "iopub.status.busy": "2020-10-18T15:42:10.157406Z",
     "iopub.status.idle": "2020-10-18T15:42:10.167026Z",
     "shell.execute_reply": "2020-10-18T15:42:10.164132Z",
     "shell.execute_reply.started": "2020-10-18T15:42:10.157976Z"
    }
   },
   "outputs": [],
   "source": [
    "# gs_clf.predict_proba([\"ilham tidak senang\"])"
   ]
  },
  {
   "cell_type": "code",
   "execution_count": 1019,
   "metadata": {
    "execution": {
     "iopub.execute_input": "2020-10-18T15:42:10.598790Z",
     "iopub.status.busy": "2020-10-18T15:42:10.598145Z",
     "iopub.status.idle": "2020-10-18T15:42:10.620007Z",
     "shell.execute_reply": "2020-10-18T15:42:10.617280Z",
     "shell.execute_reply.started": "2020-10-18T15:42:10.598720Z"
    }
   },
   "outputs": [],
   "source": [
    "X_train, X_test, y_train, y_test = train_test_split(tweet, sent, test_size=0.1, random_state=random.randint(1, 10000))\n",
    "# text_clf.fit(tweet, sent)"
   ]
  },
  {
   "cell_type": "code",
   "execution_count": 1020,
   "metadata": {
    "execution": {
     "iopub.execute_input": "2020-10-18T15:42:11.084686Z",
     "iopub.status.busy": "2020-10-18T15:42:11.083095Z",
     "iopub.status.idle": "2020-10-18T15:42:13.512792Z",
     "shell.execute_reply": "2020-10-18T15:42:13.510943Z",
     "shell.execute_reply.started": "2020-10-18T15:42:11.084564Z"
    }
   },
   "outputs": [
    {
     "data": {
      "text/plain": [
       "0.6843800322061192"
      ]
     },
     "execution_count": 1020,
     "metadata": {},
     "output_type": "execute_result"
    }
   ],
   "source": [
    "text_clf.fit(X_train, y_train)\n",
    "text_clf.score(X_test, y_test)"
   ]
  },
  {
   "cell_type": "code",
   "execution_count": 1021,
   "metadata": {
    "execution": {
     "iopub.execute_input": "2020-10-18T15:42:14.362310Z",
     "iopub.status.busy": "2020-10-18T15:42:14.361402Z",
     "iopub.status.idle": "2020-10-18T15:42:14.389186Z",
     "shell.execute_reply": "2020-10-18T15:42:14.386360Z",
     "shell.execute_reply.started": "2020-10-18T15:42:14.362210Z"
    }
   },
   "outputs": [
    {
     "name": "stdout",
     "output_type": "stream",
     "text": [
      "Saya lapar\n",
      "0.44% negatif \n",
      "0.21% neutral\n",
      "0.34% positif\n"
     ]
    }
   ],
   "source": [
    "text = \"Saya lapar\"\n",
    "print(text)\n",
    "print(\"{a[0]:.2}% negatif \\n{a[1]:.2}% neutral\\n{a[2]:.2}% positif\".\n",
    "      format(a = text_clf.predict_proba([text]).tolist()[0]))\n",
    "# text_clf.predict_proba([text])"
   ]
  },
  {
   "cell_type": "code",
   "execution_count": 1034,
   "metadata": {
    "execution": {
     "iopub.execute_input": "2020-10-18T16:21:56.574387Z",
     "iopub.status.busy": "2020-10-18T16:21:56.573772Z",
     "iopub.status.idle": "2020-10-18T16:21:56.623740Z",
     "shell.execute_reply": "2020-10-18T16:21:56.606935Z",
     "shell.execute_reply.started": "2020-10-18T16:21:56.574317Z"
    }
   },
   "outputs": [
    {
     "name": "stdout",
     "output_type": "stream",
     "text": [
      "pos happy -5.324521409616955\n",
      "pos bahagia -5.309136490777475\n",
      "pos alhamdulillah -5.2939846857568735\n",
      "pos jatuh -5.193901227199891\n",
      "pos bikin -5.167053977163703\n",
      "pos selamat -5.019547840055113\n",
      "pos kayak -4.985836782712801\n",
      "pos allah -4.963977988900302\n",
      "pos terima kasih -4.942586798918985\n",
      "pos terima -4.841999562013816\n",
      "pos semoga -4.635257729083407\n",
      "pos [username] [username] -4.517907125866195\n",
      "pos kasih -4.4128926908486115\n",
      "pos orang -4.346603366812687\n",
      "pos banget -3.979776051409937\n",
      "pos [url] -3.9209355513870037\n",
      "pos cinta -3.6666625410663523\n",
      "pos sayang -3.6148523935643313\n",
      "pos [not] -3.4010086133746675\n",
      "pos [username] -3.2836031499334544\n"
     ]
    }
   ],
   "source": [
    "coef = text_clf.get_params()['clf']\n",
    "\n",
    "feature = text_clf.get_params()['vect']\n",
    "\n",
    "def show_most_informative_features(vectorizer, clf, n=20):\n",
    "    feature_names = vectorizer.get_feature_names()\n",
    "    coefs_with_fns = sorted(zip(clf.coef_[0], feature_names))\n",
    "    top = zip(coefs_with_fns[:n], coefs_with_fns[:-(n + 1):-1])\n",
    "    for (coef_1, fn_1), (coef_2, fn_2) in top:\n",
    "        print (\"\\t%.4f:%-15s\\t%.4f:%-15s\" % (coef_1, fn_1, coef_2, fn_2))\n",
    "        \n",
    "def most_informative_feature_for_class(vectorizer, classifier, classlabel, n=10):\n",
    "\n",
    "    labelid = list(classifier.classes_).index(classlabel)\n",
    "\n",
    "    feature_names = vectorizer.get_feature_names()\n",
    "\n",
    "    topn = sorted(zip(classifier.coef_[labelid], feature_names))[-n:]\n",
    "\n",
    "    for coef, feat in topn:\n",
    "\n",
    "        print(classlabel, feat, coef)\n",
    "\n",
    "most_informative_feature_for_class(feature, coef, 'pos', 20)"
   ]
  },
  {
   "cell_type": "code",
   "execution_count": 936,
   "metadata": {
    "execution": {
     "iopub.execute_input": "2020-10-18T15:28:13.801623Z",
     "iopub.status.busy": "2020-10-18T15:28:13.801023Z",
     "iopub.status.idle": "2020-10-18T15:28:13.834353Z",
     "shell.execute_reply": "2020-10-18T15:28:13.830598Z",
     "shell.execute_reply.started": "2020-10-18T15:28:13.801561Z"
    }
   },
   "outputs": [
    {
     "ename": "TypeError",
     "evalue": "generate() missing 1 required positional argument: 'text'",
     "output_type": "error",
     "traceback": [
      "\u001b[0;31m---------------------------------------------------------------------------\u001b[0m",
      "\u001b[0;31mTypeError\u001b[0m                                 Traceback (most recent call last)",
      "\u001b[0;32m<ipython-input-936-f543380a2f72>\u001b[0m in \u001b[0;36m<module>\u001b[0;34m\u001b[0m\n\u001b[1;32m      1\u001b[0m \u001b[0;32mfrom\u001b[0m \u001b[0mwordcloud\u001b[0m \u001b[0;32mimport\u001b[0m \u001b[0mWordCloud\u001b[0m\u001b[0;34m,\u001b[0m \u001b[0mSTOPWORDS\u001b[0m\u001b[0;34m\u001b[0m\u001b[0;34m\u001b[0m\u001b[0m\n\u001b[1;32m      2\u001b[0m \u001b[0;32mimport\u001b[0m \u001b[0mmatplotlib\u001b[0m\u001b[0;34m.\u001b[0m\u001b[0mpyplot\u001b[0m \u001b[0;32mas\u001b[0m \u001b[0mplt\u001b[0m\u001b[0;34m\u001b[0m\u001b[0;34m\u001b[0m\u001b[0m\n\u001b[0;32m----> 3\u001b[0;31m wordcloud = WordCloud(width = 800, height = 800, \n\u001b[0m\u001b[1;32m      4\u001b[0m                       \u001b[0mbackground_color\u001b[0m \u001b[0;34m=\u001b[0m\u001b[0;34m'white'\u001b[0m\u001b[0;34m,\u001b[0m\u001b[0;34m\u001b[0m\u001b[0;34m\u001b[0m\u001b[0m\n\u001b[1;32m      5\u001b[0m                       \u001b[0mstopwords\u001b[0m\u001b[0;34m=\u001b[0m\u001b[0mstop\u001b[0m\u001b[0;34m+\u001b[0m\u001b[0mtags\u001b[0m\u001b[0;34m,\u001b[0m\u001b[0;34m\u001b[0m\u001b[0;34m\u001b[0m\u001b[0m\n",
      "\u001b[0;31mTypeError\u001b[0m: generate() missing 1 required positional argument: 'text'"
     ]
    }
   ],
   "source": [
    "from wordcloud import WordCloud, STOPWORDS \n",
    "import matplotlib.pyplot as plt\n",
    "wordcloud = WordCloud(width = 800, height = 800, \n",
    "                      background_color ='white',\n",
    "                      stopwords=stop+tags,\n",
    "                      regexp=r'(?u)\\[\\w{3,}\\]|\\b\\w{4,}\\-?\\w+\\b',\n",
    "                      min_font_size = 11).generate()\n",
    "\n",
    "# plot the WordCloud image                        \n",
    "plt.figure(figsize = (8, 8), facecolor = None) \n",
    "plt.imshow(wordcloud) \n",
    "plt.axis(\"off\") \n",
    "plt.tight_layout(pad = 0) \n",
    "  \n",
    "plt.show() "
   ]
  },
  {
   "cell_type": "code",
   "execution_count": 1035,
   "metadata": {
    "execution": {
     "iopub.execute_input": "2020-10-18T17:48:37.740767Z",
     "iopub.status.busy": "2020-10-18T17:48:37.740094Z",
     "iopub.status.idle": "2020-10-18T17:48:37.752309Z",
     "shell.execute_reply": "2020-10-18T17:48:37.750155Z",
     "shell.execute_reply.started": "2020-10-18T17:48:37.740695Z"
    }
   },
   "outputs": [
    {
     "name": "stdout",
     "output_type": "stream",
     "text": [
      "[[ -6.74883518  -5.4914745   -8.23691223 ...  -7.13829995  -8.57338447\n",
      "   -7.78492711]\n",
      " [ -9.88221284  -8.27277493  -8.27277493 ...  -7.31726348  -9.88221284\n",
      "   -7.48431757]\n",
      " [-10.18433381  -7.98710924 -10.18433381 ...  -7.61938446  -7.98710924\n",
      "   -7.98710924]]\n"
     ]
    }
   ],
   "source": [
    "print(coef.feature_log_prob_)"
   ]
  },
  {
   "cell_type": "code",
   "execution_count": 1036,
   "metadata": {
    "execution": {
     "iopub.execute_input": "2020-10-18T17:48:43.639255Z",
     "iopub.status.busy": "2020-10-18T17:48:43.638316Z",
     "iopub.status.idle": "2020-10-18T17:48:43.662518Z",
     "shell.execute_reply": "2020-10-18T17:48:43.659010Z",
     "shell.execute_reply.started": "2020-10-18T17:48:43.639146Z"
    }
   },
   "outputs": [
    {
     "name": "stdout",
     "output_type": "stream",
     "text": [
      "[neg]: 1\n",
      "[pos]: 32\n",
      "[url]: 34\n",
      "[username]: 36\n",
      "[not]: 3\n"
     ]
    }
   ],
   "source": [
    "for tag in tags:\n",
    "    print(tag + \": \" + \"{0}\".format(text_clf.get_params()['vect'].vocabulary_[tag]))"
   ]
  },
  {
   "cell_type": "code",
   "execution_count": null,
   "metadata": {},
   "outputs": [],
   "source": []
  }
 ],
 "metadata": {
  "kernelspec": {
   "display_name": "Python 3",
   "language": "python",
   "name": "python3"
  },
  "language_info": {
   "codemirror_mode": {
    "name": "ipython",
    "version": 3
   },
   "file_extension": ".py",
   "mimetype": "text/x-python",
   "name": "python",
   "nbconvert_exporter": "python",
   "pygments_lexer": "ipython3",
   "version": "3.8.6"
  }
 },
 "nbformat": 4,
 "nbformat_minor": 4
}
