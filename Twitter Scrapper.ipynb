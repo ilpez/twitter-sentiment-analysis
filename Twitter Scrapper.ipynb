{
 "cells": [
  {
   "cell_type": "code",
   "execution_count": 2,
   "metadata": {},
   "outputs": [],
   "source": [
    "import snscrape.modules.twitter as sntwitter\n",
    "import pandas as pd"
   ]
  },
  {
   "cell_type": "code",
   "execution_count": 45,
   "metadata": {},
   "outputs": [
    {
     "name": "stderr",
     "output_type": "stream",
     "text": [
      "/var/folders/q5/9gtqb31557s6zkpdmkdlbv2m0000gn/T/ipykernel_19730/1639970249.py:8: FutureWarning: username is deprecated, use user.username instead\n",
      "  savedTweet.append([tweet.date, tweet.username, tweet.content])\n"
     ]
    }
   ],
   "source": [
    "savedTweet = []\n",
    "tweetCount = 10000\n",
    "query = '(\"merdeka belajar\" OR #merdekabelajar) -filter:replies'\n",
    "\n",
    "for i,tweet in enumerate(sntwitter.TwitterSearchScraper(query + 'since:2021-01-01 lang:id').get_items()):\n",
    "    if i > tweetCount - 1:\n",
    "        break\n",
    "    savedTweet.append([tweet.date, tweet.username, tweet.content])"
   ]
  },
  {
   "cell_type": "code",
   "execution_count": 46,
   "metadata": {},
   "outputs": [
    {
     "data": {
      "text/html": [
       "<div>\n",
       "<style scoped>\n",
       "    .dataframe tbody tr th:only-of-type {\n",
       "        vertical-align: middle;\n",
       "    }\n",
       "\n",
       "    .dataframe tbody tr th {\n",
       "        vertical-align: top;\n",
       "    }\n",
       "\n",
       "    .dataframe thead th {\n",
       "        text-align: right;\n",
       "    }\n",
       "</style>\n",
       "<table border=\"1\" class=\"dataframe\">\n",
       "  <thead>\n",
       "    <tr style=\"text-align: right;\">\n",
       "      <th></th>\n",
       "      <th>0</th>\n",
       "      <th>1</th>\n",
       "      <th>2</th>\n",
       "    </tr>\n",
       "  </thead>\n",
       "  <tbody>\n",
       "    <tr>\n",
       "      <th>0</th>\n",
       "      <td>2021-12-24</td>\n",
       "      <td>Suarajelata1</td>\n",
       "      <td>Program Kampus Merdeka Belajar, Prodi Administ...</td>\n",
       "    </tr>\n",
       "    <tr>\n",
       "      <th>1</th>\n",
       "      <td>2021-12-24</td>\n",
       "      <td>dicoding</td>\n",
       "      <td>Segera daftar di https://t.co/wCXDena3WJ yuk!\\...</td>\n",
       "    </tr>\n",
       "    <tr>\n",
       "      <th>2</th>\n",
       "      <td>2021-12-24</td>\n",
       "      <td>kb_ntb</td>\n",
       "      <td>Informasi selengkapnya disimak melalui tautan ...</td>\n",
       "    </tr>\n",
       "    <tr>\n",
       "      <th>3</th>\n",
       "      <td>2021-12-24</td>\n",
       "      <td>rosfieta</td>\n",
       "      <td>Khofifah bilang hadirnya SMAN 2 Taruna Bhayang...</td>\n",
       "    </tr>\n",
       "    <tr>\n",
       "      <th>4</th>\n",
       "      <td>2021-12-24</td>\n",
       "      <td>DewiRahelia</td>\n",
       "      <td>Kepala Dinas Pendidikan Jatim, Wahid Wahyudi m...</td>\n",
       "    </tr>\n",
       "    <tr>\n",
       "      <th>...</th>\n",
       "      <td>...</td>\n",
       "      <td>...</td>\n",
       "      <td>...</td>\n",
       "    </tr>\n",
       "    <tr>\n",
       "      <th>9995</th>\n",
       "      <td>2021-05-02</td>\n",
       "      <td>lembong_r</td>\n",
       "      <td>\"SERENTAK BERGERAK,  WUJUDKAN MERDEKA BELAJAR\"...</td>\n",
       "    </tr>\n",
       "    <tr>\n",
       "      <th>9996</th>\n",
       "      <td>2021-05-02</td>\n",
       "      <td>Sek_Cly</td>\n",
       "      <td>Kepala Kepolisian Resor Kota Bandung beserta S...</td>\n",
       "    </tr>\n",
       "    <tr>\n",
       "      <th>9997</th>\n",
       "      <td>2021-05-02</td>\n",
       "      <td>mutiahamqi</td>\n",
       "      <td>Selamat hari pendidikan nasional\\nSelamat menj...</td>\n",
       "    </tr>\n",
       "    <tr>\n",
       "      <th>9998</th>\n",
       "      <td>2021-05-02</td>\n",
       "      <td>FilantropiINA</td>\n",
       "      <td>Selain itu, akan ada pameran virtual #Hardikna...</td>\n",
       "    </tr>\n",
       "    <tr>\n",
       "      <th>9999</th>\n",
       "      <td>2021-05-02</td>\n",
       "      <td>FilantropiINA</td>\n",
       "      <td>Adapun rangkaian siniar (podcast) peringatan H...</td>\n",
       "    </tr>\n",
       "  </tbody>\n",
       "</table>\n",
       "<p>10000 rows × 3 columns</p>\n",
       "</div>"
      ],
      "text/plain": [
       "               0              1  \\\n",
       "0     2021-12-24   Suarajelata1   \n",
       "1     2021-12-24       dicoding   \n",
       "2     2021-12-24         kb_ntb   \n",
       "3     2021-12-24       rosfieta   \n",
       "4     2021-12-24    DewiRahelia   \n",
       "...          ...            ...   \n",
       "9995  2021-05-02      lembong_r   \n",
       "9996  2021-05-02        Sek_Cly   \n",
       "9997  2021-05-02     mutiahamqi   \n",
       "9998  2021-05-02  FilantropiINA   \n",
       "9999  2021-05-02  FilantropiINA   \n",
       "\n",
       "                                                      2  \n",
       "0     Program Kampus Merdeka Belajar, Prodi Administ...  \n",
       "1     Segera daftar di https://t.co/wCXDena3WJ yuk!\\...  \n",
       "2     Informasi selengkapnya disimak melalui tautan ...  \n",
       "3     Khofifah bilang hadirnya SMAN 2 Taruna Bhayang...  \n",
       "4     Kepala Dinas Pendidikan Jatim, Wahid Wahyudi m...  \n",
       "...                                                 ...  \n",
       "9995  \"SERENTAK BERGERAK,  WUJUDKAN MERDEKA BELAJAR\"...  \n",
       "9996  Kepala Kepolisian Resor Kota Bandung beserta S...  \n",
       "9997  Selamat hari pendidikan nasional\\nSelamat menj...  \n",
       "9998  Selain itu, akan ada pameran virtual #Hardikna...  \n",
       "9999  Adapun rangkaian siniar (podcast) peringatan H...  \n",
       "\n",
       "[10000 rows x 3 columns]"
      ]
     },
     "execution_count": 46,
     "metadata": {},
     "output_type": "execute_result"
    }
   ],
   "source": [
    "dataSave = pd.DataFrame(savedTweet)\n",
    "dataSave[0] = dataSave[0].apply(lambda a: pd.to_datetime(a).date())\n",
    "dataSave.to_csv(\"tweetMined/dataset.csv\", index=False)\n",
    "dataSave.to_excel(\"tweetMined/dataset.xlsx\", index=False)\n",
    "dataSave"
   ]
  },
  {
   "cell_type": "code",
   "execution_count": null,
   "metadata": {},
   "outputs": [],
   "source": []
  }
 ],
 "metadata": {
  "kernelspec": {
   "display_name": "Python 3 (ipykernel)",
   "language": "python",
   "name": "python3"
  },
  "language_info": {
   "codemirror_mode": {
    "name": "ipython",
    "version": 3
   },
   "file_extension": ".py",
   "mimetype": "text/x-python",
   "name": "python",
   "nbconvert_exporter": "python",
   "pygments_lexer": "ipython3",
   "version": "3.9.7"
  }
 },
 "nbformat": 4,
 "nbformat_minor": 4
}